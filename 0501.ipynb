{
  "nbformat": 4,
  "nbformat_minor": 0,
  "metadata": {
    "colab": {
      "provenance": [],
      "authorship_tag": "ABX9TyOOjeKZ2GcwTt8XfVj6UlK3",
      "include_colab_link": true
    },
    "kernelspec": {
      "name": "python3",
      "display_name": "Python 3"
    },
    "language_info": {
      "name": "python"
    }
  },
  "cells": [
    {
      "cell_type": "markdown",
      "metadata": {
        "id": "view-in-github",
        "colab_type": "text"
      },
      "source": [
        "<a href=\"https://colab.research.google.com/github/IVANNN9989/Introduction-to-Computers/blob/main/0501.ipynb\" target=\"_parent\"><img src=\"https://colab.research.google.com/assets/colab-badge.svg\" alt=\"Open In Colab\"/></a>"
      ]
    },
    {
      "cell_type": "code",
      "execution_count": 3,
      "metadata": {
        "colab": {
          "base_uri": "https://localhost:8080/"
        },
        "id": "NqQhbgKuQw5r",
        "outputId": "67242d27-23ed-40bf-855e-0bb1c27fbba5"
      },
      "outputs": [
        {
          "output_type": "stream",
          "name": "stdout",
          "text": [
            "hello world\n"
          ]
        }
      ],
      "source": [
        "print ('hello world')"
      ]
    },
    {
      "cell_type": "code",
      "source": [
        "print(\"請輸入攝氏C\")\n",
        "c = float (input())\n",
        "f = 9/5 * c + 32\n",
        "print (\"華氏 = \",f, \"度F\")"
      ],
      "metadata": {
        "colab": {
          "base_uri": "https://localhost:8080/"
        },
        "id": "_hJPRQ0SSB58",
        "outputId": "4768fb90-20e3-461e-f1c3-81b9ef7951b5"
      },
      "execution_count": 8,
      "outputs": [
        {
          "output_type": "stream",
          "name": "stdout",
          "text": [
            "請輸入攝氏C\n",
            "100\n",
            "華氏 =  212.0 度F\n"
          ]
        }
      ]
    },
    {
      "cell_type": "code",
      "source": [
        "print('給定一個整數5')"
      ],
      "metadata": {
        "colab": {
          "base_uri": "https://localhost:8080/"
        },
        "id": "hVOg-ctDV2jr",
        "outputId": "d1b4956a-5a50-4127-d806-cc5799129a3c"
      },
      "execution_count": 9,
      "outputs": [
        {
          "output_type": "stream",
          "name": "stdout",
          "text": [
            "給定一個整數5\n"
          ]
        }
      ]
    },
    {
      "cell_type": "code",
      "source": [
        "import math\n",
        "money = int(input(\"請輸入本金存款金額\"))\n",
        "rate = float(input(\"請輸入年利率\"))\n",
        "years = int(input(\"請輸入年份\"))\n",
        "allmoney = float(money + money * math.pow((1+rate),years))\n",
        "print(\"本金利率和為：%.2f\"%allmoney)"
      ],
      "metadata": {
        "colab": {
          "base_uri": "https://localhost:8080/"
        },
        "id": "cH3Cwnrvdeq1",
        "outputId": "1c9ada5c-4b11-4b39-cda9-49a7b0150efd"
      },
      "execution_count": 13,
      "outputs": [
        {
          "output_type": "stream",
          "name": "stdout",
          "text": [
            "請輸入本金存款金額10000\n",
            "請輸入年利率0.02\n",
            "請輸入年份6\n",
            "本金利率和為：21261.62\n"
          ]
        }
      ]
    }
  ]
}